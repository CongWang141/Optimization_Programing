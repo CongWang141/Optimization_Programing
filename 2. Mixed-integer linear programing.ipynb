{
 "cells": [
  {
   "cell_type": "markdown",
   "metadata": {},
   "source": [
    "### 1. Mixed-integer linear programing\n",
    "---\n",
    "\n",
    "+ is an extension of linear programing with some or all decision variables to taken integer values.\n",
    "\n",
    "**Objective function**:\n",
    "\n",
    "$Z = c_1x_1 + c_2x_2 + ... + c_nx_n$\n",
    "\n",
    "**Decision variables**\n",
    "\n",
    "$x_1, x_2, ..., x_n$ with some decision variables $x_1, x_2 \\in \\mathbb{Z}^+$ or $x_1, x_2 \\in \\{0, 1\\}$\n",
    "\n",
    "**Restrictions**\n",
    "\n",
    "Linear inequalities or equalities that restrict the values of the decision variables.\n",
    "$a_1x_1 + a_2x_2 \\leq b$\n",
    "\n",
    "Non-negativity restriction.\n",
    "\n",
    "**Feasible region** \n",
    "\n",
    "+ The set of all possible values for the decision variables that satisfy the constraints.\n",
    "+ Represented geometrically as a convex polyhedron."
   ]
  },
  {
   "cell_type": "markdown",
   "metadata": {},
   "source": [
    "### 2. Example problem \n",
    "---\n",
    "+ Objective function: $$ Maximize \\ Z = 3x_1 + 5x_2$$\n",
    "\n",
    "+ s.t. \n",
    "\\begin{align*}\n",
    "x_1 + 2x_2 &\\leq 8 \\\\\n",
    "3x_1 + 2x_2 &\\leq 12 \\\\\n",
    "x_1, x_2 &\\in \\mathbb{Z}^+\\\\\n",
    "x_1 &< 3\\\\\n",
    "x_1 &\\geq 0 \\\\\n",
    "x_2 &\\geq 0\n",
    "\\end{align*}\n",
    "\n"
   ]
  },
  {
   "cell_type": "code",
   "execution_count": 4,
   "metadata": {},
   "outputs": [],
   "source": [
    "from pulp import LpMaximize, LpProblem, LpVariable "
   ]
  },
  {
   "cell_type": "code",
   "execution_count": null,
   "metadata": {},
   "outputs": [
    {
     "name": "stdout",
     "output_type": "stream",
     "text": [
      "Welcome to the CBC MILP Solver \n",
      "Version: 2.10.3 \n",
      "Build Date: Dec 15 2019 \n",
      "\n",
      "command line - /Users/wang/miniconda3/lib/python3.11/site-packages/pulp/solverdir/cbc/osx/64/cbc /var/folders/_j/dw2kb35j0ds2hc0km23ypls40000gn/T/69c66f37270c4083b3834661ea8f32e9-pulp.mps -max -timeMode elapsed -branch -printingOptions all -solution /var/folders/_j/dw2kb35j0ds2hc0km23ypls40000gn/T/69c66f37270c4083b3834661ea8f32e9-pulp.sol (default strategy 1)\n",
      "At line 2 NAME          MODEL\n",
      "At line 3 ROWS\n",
      "At line 7 COLUMNS\n",
      "At line 18 RHS\n",
      "At line 21 BOUNDS\n",
      "At line 24 ENDATA\n",
      "Problem MODEL has 2 rows, 2 columns and 4 elements\n",
      "Coin0008I MODEL read with 0 errors\n",
      "Option for timeMode changed from cpu to elapsed\n",
      "Continuous objective value is 21 - 0.00 seconds\n",
      "Cgl0004I processed model has 2 rows, 2 columns (2 integer (0 of which binary)) and 4 elements\n",
      "Cutoff increment increased from 1e-05 to 0.9999\n",
      "Cbc0012I Integer solution of -21 found by DiveCoefficient after 0 iterations and 0 nodes (0.01 seconds)\n",
      "Cbc0001I Search completed - best objective -21, took 0 iterations and 0 nodes (0.01 seconds)\n",
      "Cbc0035I Maximum depth 0, 0 variables fixed on reduced cost\n",
      "Cuts at root node changed objective from -21 to -21\n",
      "Probing was tried 0 times and created 0 cuts of which 0 were active after adding rounds of cuts (0.000 seconds)\n",
      "Gomory was tried 0 times and created 0 cuts of which 0 were active after adding rounds of cuts (0.000 seconds)\n",
      "Knapsack was tried 0 times and created 0 cuts of which 0 were active after adding rounds of cuts (0.000 seconds)\n",
      "Clique was tried 0 times and created 0 cuts of which 0 were active after adding rounds of cuts (0.000 seconds)\n",
      "MixedIntegerRounding2 was tried 0 times and created 0 cuts of which 0 were active after adding rounds of cuts (0.000 seconds)\n",
      "FlowCover was tried 0 times and created 0 cuts of which 0 were active after adding rounds of cuts (0.000 seconds)\n",
      "TwoMirCuts was tried 0 times and created 0 cuts of which 0 were active after adding rounds of cuts (0.000 seconds)\n",
      "ZeroHalf was tried 0 times and created 0 cuts of which 0 were active after adding rounds of cuts (0.000 seconds)\n",
      "\n",
      "Result - Optimal solution found\n",
      "\n",
      "Objective value:                21.00000000\n",
      "Enumerated nodes:               0\n",
      "Total iterations:               0\n",
      "Time (CPU seconds):             0.00\n",
      "Time (Wallclock seconds):       0.01\n",
      "\n",
      "Option for printingOptions changed from normal to all\n",
      "Total time (CPU seconds):       0.00   (Wallclock seconds):       0.01\n",
      "\n"
     ]
    }
   ],
   "source": [
    "# Define the problem \n",
    "problem = LpProblem('Maximize_fun', LpMaximize)\n",
    "\n",
    "# Decision variables\n",
    "x1 = LpVariable(\"x1\", lowBound=0, upBound=3, cat='Integer')\n",
    "x2 = LpVariable(\"x2\", lowBound=0, upBound=None, cat='Integer')\n",
    "\n",
    "# Write down the objective function\n",
    "problem += 3*x1 + 5*x2, \"Objective\"\n",
    "\n",
    "# Write down the constraints\n",
    "problem += x1 + 2*x2 <= 8\n",
    "problem += 3*x1 + 2*x2 <=12\n",
    "\n",
    "# Solve the problem\n",
    "status = problem.solve()"
   ]
  },
  {
   "cell_type": "code",
   "execution_count": 24,
   "metadata": {},
   "outputs": [
    {
     "name": "stdout",
     "output_type": "stream",
     "text": [
      "Status 1\n",
      "Optimal value 21.0\n",
      "x1: 2.0\n",
      "x2: 3.0\n"
     ]
    }
   ],
   "source": [
    "# print the results\n",
    "print(\"Status\", problem.status)\n",
    "print(\"Optimal value\", problem.objective.value())\n",
    "print(\"x1:\", x1.value())\n",
    "print(\"x2:\", x2.value())"
   ]
  }
 ],
 "metadata": {
  "kernelspec": {
   "display_name": "base",
   "language": "python",
   "name": "python3"
  },
  "language_info": {
   "codemirror_mode": {
    "name": "ipython",
    "version": 3
   },
   "file_extension": ".py",
   "mimetype": "text/x-python",
   "name": "python",
   "nbconvert_exporter": "python",
   "pygments_lexer": "ipython3",
   "version": "3.11.7"
  }
 },
 "nbformat": 4,
 "nbformat_minor": 2
}
