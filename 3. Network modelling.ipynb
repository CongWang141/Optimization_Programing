{
 "cells": [
  {
   "cell_type": "markdown",
   "metadata": {},
   "source": [
    "### 1. Network modelling\n",
    "---\n",
    "+ is used to represent and analysze system of interconnected entities for studying complex relationships, patterns, and dependencies between entities.\n",
    "\n",
    "**Network structure:**\n",
    "\n",
    "+ Nodes (Vertices): represent the entities.\n",
    "\n",
    "+ Edges (Links): represent the relationships or interactions between the nodes.\n",
    "\n",
    "**Types of networks:**\n",
    "\n",
    "+ Directed vs. Undirected: edges with or without a direction.\n",
    "\n",
    "+ Weighted vs. Unweighted: edges with or without weights.\n",
    "\n",
    "+ Static vs. Dynamic: networks with or without changes over time.\n",
    "\n",
    "**Network metrics:**\n",
    "\n",
    "+ Degree: the number of connections a node has.\n",
    "\n",
    "+ Centrality: measures of a node's importance in the network.\n",
    "\n",
    "+ Clustering coefficient: how tightly nodes are grouped in a local neighborhood.\n",
    "\n",
    "+ Path length: the shortest path between two nodes in the network.\n",
    "\n",
    "+ Network density: the ratio of actual connections to possible connections.\n"
   ]
  },
  {
   "cell_type": "markdown",
   "metadata": {},
   "source": [
    "### 2. Techniques and tools for network modelling\n",
    "---\n",
    "\n",
    "**Data representation:**\n",
    "+ Adjacency matrix: a matrix indicating whether pairs of nodes are connected.\n",
    "+ edge list: a list of node pairs connected by edges.\n",
    "\n",
    "**Algorithms:**\n",
    "+ Community detection: Algorithm like Louvain or Girvan-Newman.\n",
    "+ Shortest path: Dijkstra's or Floyd-Warshall algorithm.\n",
    "+ PageRank: Used in web search engies to rank pages.\n",
    "\n",
    "**Visualization:**\n",
    "+ Tools like Gephi, Cytoscape, and NetworkX (python library).\n",
    "+ R packages: igraph, ggraph\n",
    "+ Specialized tools: Neo4j(graph database), pajek.\n",
    "\n",
    "**Challenges in network modelling:**\n",
    "+ Scalability: handling large-scale networks with millions of nodes and edges.\n",
    "+ Data quality: ensuring accurate and complete data for meaningful results.\n",
    "+ Dynamic behavior: modelling and predicting changes over time.\n",
    "+ Interdisciplinary nature: integrating insights from diverse fields like physics, biology, and economics."
   ]
  },
  {
   "cell_type": "markdown",
   "metadata": {},
   "source": [
    "### 3. An example of network modelling in transportation\n",
    "---\n",
    "\n",
    "**Steps:**\n",
    "\n",
    "+ Input:\n",
    "    + List of bus stops (nodes).\n",
    "    + Travel times between stops (edges with weights).\n",
    "\n",
    "+ Output:\n",
    "    + The shortest path and total travel time between two specified stops.\n",
    "\n",
    "**Example data:**\n",
    "\n",
    "+ Bus stops: A, B, C, D\n",
    "\n",
    "+ Travel times (weighted edges):\n",
    "    + A -> B 10 mins\n",
    "    + A -> C 15 mins\n",
    "    + B -> D 12 mins\n",
    "    + D -> E 5 mins\n",
    "    + C -> E 20 mins\n",
    "\n",
    "+ Goal: find the shortest path and travel time between stop A and stop E."
   ]
  },
  {
   "cell_type": "code",
   "execution_count": 1,
   "metadata": {},
   "outputs": [],
   "source": [
    "import networkx as nx"
   ]
  },
  {
   "cell_type": "code",
   "execution_count": 11,
   "metadata": {},
   "outputs": [
    {
     "name": "stdout",
     "output_type": "stream",
     "text": [
      "Shortest path from A to E: ['A', 'B', 'D', 'E']\n",
      "Shortest travel time: 27 minutes\n"
     ]
    }
   ],
   "source": [
    "# Define the graph\n",
    "G = nx.DiGraph()\n",
    "\n",
    "# Add edges with travel times (weights)\n",
    "G.add_weighted_edges_from([\n",
    "    (\"A\", \"B\", 10),\n",
    "    (\"A\", \"C\", 15),\n",
    "    (\"B\", \"D\", 12),\n",
    "    (\"C\", \"D\", 10),\n",
    "    (\"D\", \"E\", 5),\n",
    "    (\"C\", \"E\", 20)\n",
    "])\n",
    "\n",
    "# Define the source and target stops\n",
    "source = \"A\"\n",
    "target = \"E\"\n",
    "\n",
    "# Find the shortest path and its length\n",
    "try:\n",
    "    shortest_path = nx.shortest_path(G, source=source, target=target, weight=\"weight\")\n",
    "    shortest_length = nx.shortest_path_length(G, source=source, target=target, weight=\"weight\")\n",
    "\n",
    "    print(f\"Shortest path from {source} to {target}:\", shortest_path)\n",
    "    print(f\"Shortest travel time: {shortest_length} minutes\")\n",
    "\n",
    "except nx.NetworkXNoPath:\n",
    "    print(f\"No path exists between {source} and {target}\")"
   ]
  }
 ],
 "metadata": {
  "kernelspec": {
   "display_name": "venv_cs",
   "language": "python",
   "name": "python3"
  },
  "language_info": {
   "codemirror_mode": {
    "name": "ipython",
    "version": 3
   },
   "file_extension": ".py",
   "mimetype": "text/x-python",
   "name": "python",
   "nbconvert_exporter": "python",
   "pygments_lexer": "ipython3",
   "version": "3.12.3"
  }
 },
 "nbformat": 4,
 "nbformat_minor": 2
}
