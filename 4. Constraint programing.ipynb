{
 "cells": [
  {
   "cell_type": "markdown",
   "metadata": {},
   "source": [
    "### 1. Constraint programming\n",
    "---\n",
    "+ is a problem-solving paradigm that focuses on finding solutions to problem defined by constraints. Particularly effective for solving combinatorial problems, scheduling, resource allocation, and optimization probelms.\n",
    "\n",
    "**Key concepts:**\n",
    "+ Variables:\n",
    "    + represent the entities in a problem.\n",
    "    + each variable has a domain, which is the set of possible values it can take.\n",
    "+ Constraints:\n",
    "    + define relationships or rules that must hold between variables.\n",
    "+ Search space:\n",
    "    + The set of all possible assignments of values to variables.\n",
    "    + CP reduces the search space by eliminating values that violate constraints.\n",
    "+ Constriant sovler:\n",
    "    + A tool or algorithm that systematically searches for solutions that satistfy all constraints.\n",
    "\n",
    "**Popular tools and frameworks:**\n",
    "+ Python libraries:\n",
    "    + Google OR-Tool: open-source library for CP, LP, MILP.\n",
    "    + PycsP3: python library for modelling and solving CP prblems.\n",
    "    + Numberjack: A CP solver in python.\n",
    "+ Specialized language:\n",
    "    + MiniZinc: A high-level CP modelling language.\n",
    "    + Choco: Java library for CP.\n",
    "+ Commercial solvers:\n",
    "    + IBM ILOG CPLEX Optimizer: industrial grade solver for CP.\n",
    "    + Gecode: C++ library for CP."
   ]
  },
  {
   "cell_type": "markdown",
   "metadata": {},
   "source": [
    "### 2. Difference & Similarity with others\n",
    "---\n",
    "\n",
    "| Feature          | CP                        | LP                      | MILP                          |\n",
    "|----------------  |---------------------------|-------------            |-------------------------------|\n",
    "| Variable type    | Discrete (finite domains) | Continuous              | Mixed (continuous + discrete) |\n",
    "|Objective function| Optional                  | Required                | Required |\n",
    "|Constriaints      | Arbitrary(logical, global)|Linear                   | Linear| \n",
    "|Problem structure | Combinatorial             |Continues optimization   |Mixed combinatorial / continuous|\n",
    "|Solving approach  |Backtracking, propagation  |Simplex or interior-point|Branch and bound, cutting planes|\n"
   ]
  },
  {
   "cell_type": "markdown",
   "metadata": {},
   "source": [
    "### 3. Example problem: Route optimization for a delivery problem\n",
    "---\n",
    "+ A delivery driver must visit a set of locations exactly once and return to the starting point. \n",
    "+ The objective is to minimize the total travel distance (or cost). \n",
    "+ This is a classic Traveling Salesman Problem (TSP).\n",
    "\n",
    "**Scenario**\n",
    "+ Loactions: A, B, C, D, E\n",
    "+ Distance between locations (symmetric matrix):\n",
    "\n",
    "|  |A |B |C |D |E |\n",
    "|--|--|--|--|--|--|\n",
    "|A |0 |10|15|20|25|\n",
    "|B |10|0 |35|25|30|\n",
    "|C |15|35|0 |30|20|\n",
    "|D |20|25|30|0 |15|\n",
    "|E |25|30|20|15|0 |"
   ]
  },
  {
   "cell_type": "code",
   "execution_count": null,
   "metadata": {},
   "outputs": [],
   "source": [
    "from ortools.constraint_solver import pywrapcp, routing_enums_pd2"
   ]
  },
  {
   "cell_type": "code",
   "execution_count": 1,
   "metadata": {},
   "outputs": [],
   "source": [
    "# Define the distance matrix\n",
    "distance_matrix = [\n",
    "    [0, 10, 15, 20, 25],\n",
    "    [10, 0, 35, 25, 30],\n",
    "    [15, 35, 0, 30, 20],\n",
    "    [20, 25, 30, 0, 15],\n",
    "    [25, 30, 20, 15, 0]\n",
    "]\n",
    "\n",
    "# Number of locations\n",
    "num_locations = len(distance_matrix)\n",
    "\n",
    "# Creat the routing index manager and model\n",
    "manager = pywrapcp.RoutingIndexManager(len(distance_matrix), 1, 0)\n",
    "routing = pywrapcp.RoutingModel(manager)\n",
    "\n",
    "# Define the distance callback"
   ]
  },
  {
   "cell_type": "code",
   "execution_count": 3,
   "metadata": {},
   "outputs": [],
   "source": [
    "# Create the model\n",
    "data = {}\n",
    "data['distance_matrix'] = distance_matrix\n",
    "data['num_locations'] = num_locations\n",
    "data['depot'] = 0 # starting point"
   ]
  }
 ],
 "metadata": {
  "kernelspec": {
   "display_name": "venv_cs",
   "language": "python",
   "name": "python3"
  },
  "language_info": {
   "codemirror_mode": {
    "name": "ipython",
    "version": 3
   },
   "file_extension": ".py",
   "mimetype": "text/x-python",
   "name": "python",
   "nbconvert_exporter": "python",
   "pygments_lexer": "ipython3",
   "version": "3.12.3"
  }
 },
 "nbformat": 4,
 "nbformat_minor": 2
}
