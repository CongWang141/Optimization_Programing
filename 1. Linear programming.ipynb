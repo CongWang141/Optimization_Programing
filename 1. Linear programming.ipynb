{
 "cells": [
  {
   "cell_type": "markdown",
   "metadata": {},
   "source": [
    "### Linear programming\n",
    "\n",
    "+ is a technique for the optimizatoin of a linear objective function, subject to linear equality and linear inequality constraints.\n",
    "\n",
    "**Objective function**:\n",
    "\n",
    "$Z = c_1x_1 + c_2x_2 + ... + c_nx_n$\n",
    "\n",
    "**Decision variables**\n",
    "\n",
    "$x_1, x_2, ..., x_n$\n",
    "\n",
    "**Restrictions**\n",
    "\n",
    "Linear inequalities or equalities that restrict the values of the decision variables.\n",
    "$a_1x_1 + a_2x_2 \\leq b$\n",
    "\n",
    "**Feasible region** \n",
    "\n",
    "+ The set of all possible values for the decision variables that satisfy the constraints.\n",
    "+ Represented geometrically as a convex polyhedron."
   ]
  },
  {
   "cell_type": "markdown",
   "metadata": {
    "vscode": {
     "languageId": "plaintext"
    }
   },
   "source": [
    "### Example problem \n",
    "\n",
    "+ Objective function: $$ Maximize \\ Z = 3x_1 + 5x_2$$\n",
    "\n",
    "+ s.t. \n",
    "\\begin{align*}\n",
    "x_1 + x_2 &\\leq 8 \\\\\n",
    "3x_1 + 2x_2 &\\leq 12 \\\\\n",
    "x_1 &\\leq 0 \\\\\n",
    "x_2 &\\leq 0\n",
    "\\end{align*}\n",
    "\n"
   ]
  },
  {
   "cell_type": "code",
   "execution_count": 1,
   "metadata": {},
   "outputs": [],
   "source": [
    "from scipy.optimize import linprog"
   ]
  },
  {
   "cell_type": "code",
   "execution_count": null,
   "metadata": {},
   "outputs": [],
   "source": [
    "# Coefficient of the objective function (negative bc we are maximizing)\n",
    "c = [-3, -5]\n",
    "\n",
    "# Coefficient of constricts"
   ]
  }
 ],
 "metadata": {
  "kernelspec": {
   "display_name": "base",
   "language": "python",
   "name": "python3"
  },
  "language_info": {
   "codemirror_mode": {
    "name": "ipython",
    "version": 3
   },
   "file_extension": ".py",
   "mimetype": "text/x-python",
   "name": "python",
   "nbconvert_exporter": "python",
   "pygments_lexer": "ipython3",
   "version": "3.11.7"
  }
 },
 "nbformat": 4,
 "nbformat_minor": 2
}
