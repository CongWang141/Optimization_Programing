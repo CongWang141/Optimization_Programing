{
 "cells": [
  {
   "cell_type": "markdown",
   "metadata": {},
   "source": [
    "### 1. Linear programming\n",
    "---\n",
    "\n",
    "+ is a technique for the optimizatoin of a linear objective function, subject to linear equality and linear inequality constraints.\n",
    "\n",
    "**Objective function**:\n",
    "\n",
    "$Z = c_1x_1 + c_2x_2 + ... + c_nx_n$\n",
    "\n",
    "**Decision variables**\n",
    "\n",
    "$x_1, x_2, ..., x_n$\n",
    "\n",
    "**Restrictions**\n",
    "\n",
    "Linear inequalities or equalities that restrict the values of the decision variables.\n",
    "$a_1x_1 + a_2x_2 \\leq b$\n",
    "\n",
    "**Feasible region** \n",
    "\n",
    "+ The set of all possible values for the decision variables that satisfy the constraints.\n",
    "+ Represented geometrically as a convex polyhedron."
   ]
  },
  {
   "cell_type": "markdown",
   "metadata": {
    "vscode": {
     "languageId": "plaintext"
    }
   },
   "source": [
    "### 2. Example problem \n",
    "---\n",
    "+ Objective function: $$ Maximize \\ Z = 3x_1 + 5x_2$$\n",
    "\n",
    "+ s.t. \n",
    "\\begin{align*}\n",
    "x_1 + x_2 &\\leq 8 \\\\\n",
    "3x_1 + 2x_2 &\\leq 12 \\\\\n",
    "x_1 &\\geq 0 \\\\\n",
    "x_2 &\\geq 0\n",
    "\\end{align*}\n",
    "\n"
   ]
  },
  {
   "cell_type": "markdown",
   "metadata": {},
   "source": [
    "### 3. Solve it with scipy\n",
    "---"
   ]
  },
  {
   "cell_type": "code",
   "execution_count": 1,
   "metadata": {},
   "outputs": [],
   "source": [
    "from scipy.optimize import linprog"
   ]
  },
  {
   "cell_type": "code",
   "execution_count": 3,
   "metadata": {},
   "outputs": [],
   "source": [
    "# Coefficient of the objective function (negative bc we are maximizing)\n",
    "c = [-3, -5]\n",
    "\n",
    "# Coefficient of constricts (LHS)\n",
    "A = [[1, 2],\n",
    "     [3, 2],\n",
    "]\n",
    "\n",
    "# RHS of the inequality constraints\n",
    "b = [8, 12]\n",
    "\n",
    "# Bonds for x_1 and x_2 (non-negativity constraint)\n",
    "x1_bonds = (0, None)\n",
    "x2_bonds = (0, None)\n",
    "\n",
    "# Solve the linear programming problem\n",
    "result = linprog(c=c, A_ub=A, b_ub=b, bounds=[x1_bonds, x2_bonds], method='highs')"
   ]
  },
  {
   "cell_type": "code",
   "execution_count": 5,
   "metadata": {},
   "outputs": [
    {
     "name": "stdout",
     "output_type": "stream",
     "text": [
      "Optimal value: 21.0\n",
      "Optimal solution (x1, x2): [2. 3.]\n"
     ]
    }
   ],
   "source": [
    "# Display the results\n",
    "if result.success:\n",
    "    print(\"Optimal value:\", -result.fun)\n",
    "    print(\"Optimal solution (x1, x2):\", result.x)\n",
    "else:\n",
    "    print(\"The problem does not have an optimal solution.\")"
   ]
  }
 ],
 "metadata": {
  "kernelspec": {
   "display_name": "base",
   "language": "python",
   "name": "python3"
  },
  "language_info": {
   "codemirror_mode": {
    "name": "ipython",
    "version": 3
   },
   "file_extension": ".py",
   "mimetype": "text/x-python",
   "name": "python",
   "nbconvert_exporter": "python",
   "pygments_lexer": "ipython3",
   "version": "3.11.7"
  }
 },
 "nbformat": 4,
 "nbformat_minor": 2
}
